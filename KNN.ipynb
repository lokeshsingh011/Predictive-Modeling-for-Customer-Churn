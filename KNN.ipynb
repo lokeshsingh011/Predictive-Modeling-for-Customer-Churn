{
 "cells": [
  {
   "cell_type": "code",
   "execution_count": 1,
   "id": "854ef9b2-bb10-4ad9-b3d9-d9d53d6ba970",
   "metadata": {},
   "outputs": [],
   "source": [
    "import pandas as pd"
   ]
  },
  {
   "cell_type": "code",
   "execution_count": null,
   "id": "531f352b-3bfe-4789-a641-b8bfa1b07c25",
   "metadata": {},
   "outputs": [],
   "source": []
  }
 ],
 "metadata": {
  "kernelspec": {
   "display_name": "Python 3 (ipykernel)",
   "language": "python",
   "name": "python3"
  },
  "language_info": {
   "codemirror_mode": {
    "name": "ipython",
    "version": 3
   },
   "file_extension": ".py",
   "mimetype": "text/x-python",
   "name": "python",
   "nbconvert_exporter": "python",
   "pygments_lexer": "ipython3",
   "version": "3.11.7"
  }
 },
 "nbformat": 4,
 "nbformat_minor": 5
}
